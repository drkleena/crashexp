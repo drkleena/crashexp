{
 "cells": [
  {
   "cell_type": "code",
   "execution_count": 5,
   "metadata": {
    "collapsed": true
   },
   "outputs": [],
   "source": [
    "import pandas as pd\n",
    "import math\n",
    "from collections import defaultdict as dd\n",
    "import matplotlib.pyplot as plt\n",
    "from collections import defaultdict as dd\n",
    "import statsmodels.api as sm\n",
    "import pylab as pl\n",
    "import numpy as np\n",
    "from math import radians, cos, sin, asin, sqrt\n",
    "from datetime import date\n",
    "import calendar as calendar"
   ]
  },
  {
   "cell_type": "code",
   "execution_count": 6,
   "metadata": {
    "collapsed": true
   },
   "outputs": [],
   "source": [
    "def cartesian(arrays, out=None):\n",
    "    arrays = [np.asarray(x) for x in arrays]\n",
    "    dtype = arrays[0].dtype\n",
    "\n",
    "    n = np.prod([x.size for x in arrays])\n",
    "    if out is None:\n",
    "        out = np.zeros([n, len(arrays)], dtype=dtype)\n",
    "\n",
    "    m = n / arrays[0].size\n",
    "    out[:,0] = np.repeat(arrays[0], m)\n",
    "    if arrays[1:]:\n",
    "        cartesian(arrays[1:], out=out[0:m,1:])\n",
    "        for j in range(1, arrays[0].size):\n",
    "            out[j*m:(j+1)*m,1:] = out[0:m,1:]\n",
    "    return out"
   ]
  },
  {
   "cell_type": "code",
   "execution_count": 46,
   "metadata": {
    "collapsed": false
   },
   "outputs": [],
   "source": [
    "def isolate_and_plot(variable, lga, combos):\n",
    "    \n",
    "    # replace light rank with different factors to perform logit model on other dummy variables\n",
    "    \n",
    "    grouped = pd.pivot_table(combos, values=['death_pred'], index=[variable, \"LIGHT_RANK\"],\n",
    "                  aggfunc=np.mean)\n",
    "    # make a plot\n",
    "    colors = 'rbgymbrgy'\n",
    "    for col in combos.LIGHT_RANK.unique():\n",
    "        plt_data = grouped.ix[grouped.index.get_level_values(1)==col]\n",
    "        pl.plot(plt_data.index.get_level_values(0), plt_data['death_pred'], color=colors[int(col)])\n",
    "\n",
    "    pl.xlabel(variable + \" km/h\")\n",
    "    pl.ylabel(\"P(death=1)\")\n",
    "    \n",
    "    \n",
    "    light_cond_list = ['Day', 'Dark Street lights on', 'Dusk/Dawn', 'Dark No street lights', 'Dark Street lights off']\n",
    "    \n",
    "    pl.legend(light_cond_list, loc='upper left', title= \"Lighting Condition\")\n",
    "    pl.title( lga + \" Prob(Death=1) isolating \" + variable +\" and \" + \"Light Condition\")\n",
    "    pl.show()"
   ]
  },
  {
   "cell_type": "code",
   "execution_count": 47,
   "metadata": {
    "collapsed": false
   },
   "outputs": [],
   "source": [
    "def clean_and_filter_by_LGA(lga):\n",
    "    last_five_years_raw = pd.read_csv('Crashes_Last_Five_Years.csv')\n",
    "    crashes_clean = pd.DataFrame()\n",
    "    last_five_years_raw =last_five_years_raw[last_five_years_raw.SPEED_ZONE != 'Camping grounds or off road']\n",
    "    last_five_years_raw =last_five_years_raw[last_five_years_raw.SPEED_ZONE != 'Not known']\n",
    "    last_five_years_raw =last_five_years_raw[last_five_years_raw.SPEED_ZONE != 'Other speed limit']\n",
    "    # clean the light condition column\n",
    "    last_five_years_raw =last_five_years_raw[last_five_years_raw.LIGHT_CONDITION != 'Unk.']\n",
    "    last_five_years_raw =last_five_years_raw[last_five_years_raw.LIGHT_CONDITION != 'Dark Street lights unknown']\n",
    "    \n",
    "    # uncomment this is you only want a specific LGA\n",
    "    \n",
    "    #last_five_years_raw = last_five_years_raw[last_five_years_raw.LGA_NAME_ALL == lga]\n",
    "    \n",
    "    # reset index\n",
    "    last_five_years_raw  = last_five_years_raw.reset_index(drop=True)\n",
    "    \n",
    "    \n",
    "    # clean the speed colummn\n",
    "    \n",
    "    for i in range (len(last_five_years_raw.index)):\n",
    "    \n",
    "        st = last_five_years_raw[\"SPEED_ZONE\"][i]\n",
    "    \n",
    "        cleaned = st.replace('km/hr','')\n",
    "    \n",
    "        last_five_years_raw.set_value(i,'SPEED_ZONE',cleaned)\n",
    "    \n",
    "    for i in range (len(last_five_years_raw.index)):\n",
    "        # convert to int\n",
    "        last_five_years_raw.set_value(i,'SPEED_ZONE',int(last_five_years_raw[\"SPEED_ZONE\"][i]))    \n",
    "    \n",
    "    crashes_clean[\"SPEED_ZONE\"] = last_five_years_raw[\"SPEED_ZONE\"]\n",
    "\n",
    "    crashes_clean[\"SEVERITY\"] = last_five_years_raw[\"SEVERITY\"]\n",
    "\n",
    "    crashes_clean[\"ALCOHOL\"] = last_five_years_raw[\"ALCOHOL_RELATED\"]\n",
    "    \n",
    "    \n",
    "    crashes_clean['DATE'] = last_five_years_raw['ACCIDENT_DATE']\n",
    "    \n",
    "    crashes_clean['DATE'] = pd.DatetimeIndex(pd.to_datetime(crashes_clean.DATE))\n",
    "    \n",
    "    crashes_clean[\"FATAL\"] = 0\n",
    "    crashes_clean[\"WEEKEND\"] = 0\n",
    "    crashes_clean[\"YOUNG_DRIVER\"] = last_five_years_raw[\"YOUNG_DRIVER\"]\n",
    "    crashes_clean[\"YOUNG\"] = 0\n",
    "    crashes_clean['UNLICENCSED_DRIVER'] = last_five_years_raw[\"UNLICENCSED\"]\n",
    "    crashes_clean[\"UNLICENCSED\"] = 0\n",
    "    \n",
    "    \n",
    "    crashes_clean[\"LIGHT_RANK\"] = 0 \n",
    "    \n",
    "    crashes_clean[\"LIGHT_COND\"] = last_five_years_raw['LIGHT_CONDITION']\n",
    "    \n",
    "    unique_list_lighting = crashes_clean['LIGHT_COND'].unique().tolist()\n",
    "    \n",
    "    \n",
    "    \n",
    "    # get lighting condition ranks\n",
    "    \n",
    "    for i in range(len(crashes_clean.index)):\n",
    "        \n",
    "        light_rank = unique_list_lighting.index(crashes_clean['LIGHT_COND'][i])\n",
    "        \n",
    "        crashes_clean.set_value(i,'LIGHT_RANK',light_rank)\n",
    "        \n",
    "    # get fatal accident dummy\n",
    "    for i in range(len(crashes_clean.index)):\n",
    "        if crashes_clean['SEVERITY'][i] == \"Fatal accident\":\n",
    "            crashes_clean.set_value(i,'FATAL', 1)\n",
    "    \n",
    "    \n",
    "    # get alcohol dummy\n",
    "    for i in range(len(crashes_clean.index)):\n",
    "        if crashes_clean['ALCOHOL'][i] == \"Yes\":\n",
    "            crashes_clean.set_value(i,'ALCOHOL', 1)\n",
    "        else:\n",
    "            crashes_clean.set_value(i,'ALCOHOL', 0)\n",
    "    \n",
    "    \n",
    "    # get weekend dummy\n",
    "    for i in range(len(crashes_clean.index)):    \n",
    "        if calendar.day_name[crashes_clean['DATE'][i].weekday()] == \"Saturday\":\n",
    "            crashes_clean.set_value(i,'WEEKEND', 1)\n",
    "            \n",
    "        elif calendar.day_name[crashes_clean['DATE'][i].weekday()] == \"Sunday\":\n",
    "            crashes_clean.set_value(i,'WEEKEND', 1)\n",
    "    \n",
    "    # get age dummy\n",
    "    for i in range(len(crashes_clean.index)):\n",
    "        \n",
    "        if crashes_clean['YOUNG_DRIVER'][i] >= 1:\n",
    "            crashes_clean.set_value(i,'YOUNG', 1)\n",
    "            \n",
    "        else:\n",
    "            crashes_clean.set_value(i,'YOUNG', 0)\n",
    "    # get license dummy\n",
    "    \n",
    "    for i in range(len(crashes_clean.index)):\n",
    "        if crashes_clean['UNLICENCSED_DRIVER'][i] >= 1:\n",
    "            crashes_clean.set_value(i,'UNLICENCSED', 1)\n",
    "        else:\n",
    "            crashes_clean.set_value(i,'UNLICENCSED', 0)\n",
    "    \n",
    "\n",
    "    return crashes_clean \n",
    "        \n",
    "        "
   ]
  },
  {
   "cell_type": "code",
   "execution_count": 48,
   "metadata": {
    "collapsed": false
   },
   "outputs": [],
   "source": [
    "# main function to print and visualize the logit model\n",
    "#\n",
    "def main(df, lga):\n",
    "    # replace light rank with different factors to perform logit model on other dummy variables\n",
    "\n",
    "    dummy_ranks2 = pd.get_dummies(df['LIGHT_RANK'], prefix=\"LIGHT_RANK\")\n",
    "    cols_to_keep2 = ['FATAL', 'SPEED_ZONE']\n",
    "    # myprefix = dummy + \"_1\"\n",
    "    \n",
    "    \n",
    "    data_2 = df[cols_to_keep2].join(dummy_ranks2.ix[:, 'LIGHT_RANK_1':])\n",
    "    data_2['intercept'] = 1.0\n",
    "    train_cols_2 = data_2.columns[1:]\n",
    "    logit_2 = sm.Logit(data_2['FATAL'].astype(float), data_2[train_cols_2].astype(float))\n",
    "    result_2 = logit_2.fit()\n",
    "    print (result_2.summary())\n",
    "    print (\"Showing results for: \" + lga)\n",
    "    \n",
    "    speed = np.linspace(data_2['SPEED_ZONE'].min(), data_2['SPEED_ZONE'].max(), 10)\n",
    "    \n",
    "    combos = pd.DataFrame(cartesian([speed,[0,1,2,3,4], [1.]]))\n",
    "\n",
    "    combos.columns = ['SPEED_ZONE', 'LIGHT_RANK', 'intercept']\n",
    "\n",
    "    dummy_ranks_3 = pd.get_dummies(combos['LIGHT_RANK'], prefix=\"LIGHT_RANK\")\n",
    "\n",
    "    \n",
    "    dummy_ranks_3.columns = [\"LIGHT_RANK_0\", \"LIGHT_RANK_1\", \"LIGHT_RANK_2\", \"LIGHT_RANK_3\",\"LIGHT_RANK_4\"]\n",
    "\n",
    "\n",
    "\n",
    "    cols_to_keep_420 = [\"SPEED_ZONE\", \"LIGHT_RANK\", 'intercept']\n",
    "\n",
    "    combos = combos[cols_to_keep_420].join(dummy_ranks_3.ix[:, \"LIGHT_RANK_1\":])\n",
    "\n",
    "    combos['death_pred'] = result_2.predict(combos[train_cols_2])\n",
    "\n",
    "    isolate_and_plot('SPEED_ZONE', lga, combos)\n",
    "    \n",
    "    print (np.exp(result_2.params))"
   ]
  },
  {
   "cell_type": "code",
   "execution_count": 49,
   "metadata": {
    "collapsed": false,
    "scrolled": false
   },
   "outputs": [
    {
     "name": "stdout",
     "output_type": "stream",
     "text": [
      "Optimization terminated successfully.\n",
      "         Current function value: 0.086250\n",
      "         Iterations 9\n",
      "                           Logit Regression Results                           \n",
      "==============================================================================\n",
      "Dep. Variable:                  FATAL   No. Observations:                66025\n",
      "Model:                          Logit   Df Residuals:                    66019\n",
      "Method:                           MLE   Df Model:                            5\n",
      "Date:                Thu, 11 May 2017   Pseudo R-squ.:                 0.06792\n",
      "Time:                        18:47:20   Log-Likelihood:                -5694.7\n",
      "converged:                       True   LL-Null:                       -6109.7\n",
      "                                        LLR p-value:                3.770e-177\n",
      "================================================================================\n",
      "                   coef    std err          z      P>|z|      [95.0% Conf. Int.]\n",
      "--------------------------------------------------------------------------------\n",
      "SPEED_ZONE       0.0383      0.002     23.634      0.000         0.035     0.041\n",
      "LIGHT_RANK_1     0.4690      0.084      5.563      0.000         0.304     0.634\n",
      "LIGHT_RANK_2    -0.1439      0.103     -1.395      0.163        -0.346     0.058\n",
      "LIGHT_RANK_3     0.7001      0.083      8.440      0.000         0.538     0.863\n",
      "LIGHT_RANK_4     1.2803      0.396      3.236      0.001         0.505     2.056\n",
      "intercept       -6.9802      0.137    -50.778      0.000        -7.250    -6.711\n",
      "================================================================================\n",
      "Showing results for: ALL LGAS\n"
     ]
    },
    {
     "name": "stderr",
     "output_type": "stream",
     "text": [
      "/Users/Jonas/anaconda/lib/python3.6/site-packages/ipykernel/__main__.py:12: VisibleDeprecationWarning: using a non-integer number instead of an integer will result in an error in the future\n",
      "/Users/Jonas/anaconda/lib/python3.6/site-packages/ipykernel/__main__.py:14: VisibleDeprecationWarning: using a non-integer number instead of an integer will result in an error in the future\n"
     ]
    },
    {
     "data": {
      "image/png": "[encoded data removed]",
      "text/plain": [
       "<matplotlib.figure.Figure at 0x1138bd748>"
      ]
     },
     "metadata": {},
     "output_type": "display_data"
    },
    {
     "name": "stdout",
     "output_type": "stream",
     "text": [
      "SPEED_ZONE      1.039000\n",
      "LIGHT_RANK_1    1.598431\n",
      "LIGHT_RANK_2    0.866012\n",
      "LIGHT_RANK_3    2.014021\n",
      "LIGHT_RANK_4    3.597673\n",
      "intercept       0.000930\n",
      "dtype: float64\n"
     ]
    }
   ],
   "source": [
    "lgas = [\"GEELONG\", \"WYNDHAM\", \"YARRA RANGES\", \"BRIMBANK\", \"MORNINGTON PENINSULA\", \"SHEPPARTON\"]\n",
    "\n",
    "LGA = [\"ALL LGAS\"]\n",
    "\n",
    "for lga in LGA:\n",
    "    crashes_clean = clean_and_filter_by_LGA(lga)\n",
    "    main(crashes_clean, lga)\n",
    "    \n",
    "# un comment this section if you want to see a logit break down for each lga\n",
    "# for lga in lgas:\n",
    "#     crashes_clean = clean_and_filter_by_LGA(lga)\n",
    "#     main(crashes_clean, lga)"
   ]
  },
  {
   "cell_type": "code",
   "execution_count": 50,
   "metadata": {
    "collapsed": false
   },
   "outputs": [
    {
     "name": "stdout",
     "output_type": "stream",
     "text": [
      "                    LGA  SPEED_ODDS  ALCOHOL_ODDS\n",
      "0               Wyndham    1.021791     11.181878\n",
      "1               Geelong    1.033098      9.621303\n",
      "2              Brimbank    1.006063      7.906362\n",
      "3          Yarra Ranges    1.039530      6.569752\n",
      "4            Shepparton    1.048212      6.378146\n",
      "5  Mornington Peninsula    1.032096      1.486298\n"
     ]
    },
    {
     "data": {
      "image/png": "[encoded data removed]",
      "text/plain": [
       "<matplotlib.figure.Figure at 0x113f73ef0>"
      ]
     },
     "metadata": {},
     "output_type": "display_data"
    }
   ],
   "source": [
    "# used to demonstrate disparity in alcohol odds between lgas\n",
    "odds_alcohol_speed = pd.read_csv('results_speed_alcohol_top_6.csv')\n",
    "print (odds_alcohol_speed)\n",
    "odds_alcohol_speed.plot.bar()\n",
    "plt.xticks([0,1,2,3,4,5], odds_alcohol_speed['LGA'])\n",
    "plt.title(\"Top 6 most fatal LGA: Alcohol and Speed Odds Breakdown\")\n",
    "plt.ylabel(\"Marginal Rate of P(fatal=1) Increase\")\n",
    "plt.xlabel(\"Local Government Area\")\n",
    "plt.show()"
   ]
  },
  {
   "cell_type": "code",
   "execution_count": null,
   "metadata": {
    "collapsed": true
   },
   "outputs": [],
   "source": [
    "# for ambulance data:\n",
    "# ambulance response times cleaned:\n",
    "\n",
    "ambulance_clean = pd.DataFrame()\n",
    "ambulance_raw = pd.read_csv('ambulance_response_times.csv')\n",
    "\n",
    "ambulance_clean['LGA'] = ambulance_raw['lga_name']\n",
    "ambulance_clean['average_percent_under_15'] = 100*ambulance_raw['average_percent_under_15_minutes_2014-2016']\n",
    "ambulance_clean['average_response_time_seconds'] = ambulance_raw['average_response_time_seconds_2014-2016']\n",
    "ambulance_clean['average_response_time_minutes'] = ambulance_raw['average_response_time_seconds_2014-2016'] / 60\n",
    "\n",
    "for i in range(len(ambulance_clean.index)):\n",
    "    \n",
    "    clean = str(ambulance_clean['LGA'][i]).replace(\"(S)\",\"\").replace(\"(RC)\",\"\").replace(\"(C)\",\"\").replace(\"(B)\",\"\").replace(\"Greater\",\"\")\n",
    "    ambulance_clean.set_value(i,'LGA', clean.upper())\n",
    "\n",
    "# take out any NaNs by dropping last row, which is a NAN:\n",
    "\n",
    "ambulance_clean = ambulance_clean[:-1]\n",
    "    \n",
    "ambulance_plot = pd.DataFrame()\n",
    "\n",
    "ambulance_plot['LGA'] = ambulance_clean['LGA']\n",
    "\n",
    "ambulance_plot['av_time'] = ambulance_clean['average_response_time_minutes']\n",
    "\n",
    "ambulance_plot_dict = {}\n",
    "\n",
    "for i in range(len(ambulance_plot.index)):\n",
    "    \n",
    "    lga = ambulance_plot['LGA'][i]\n",
    "    \n",
    "    ambulance_plot_dict[lga] = ambulance_plot['av_time'][i]\n",
    "    \n",
    "# used to find average response times for different LGAs\n",
    "ambulance_plot_dict  \n",
    "\n",
    "\n"
   ]
  },
  {
   "cell_type": "code",
   "execution_count": null,
   "metadata": {
    "collapsed": true
   },
   "outputs": [],
   "source": []
  }
 ],
 "metadata": {
  "kernelspec": {
   "display_name": "Python 3",
   "language": "python",
   "name": "python3"
  },
  "language_info": {
   "codemirror_mode": {
    "name": "ipython",
    "version": 3
   },
   "file_extension": ".py",
   "mimetype": "text/x-python",
   "name": "python",
   "nbconvert_exporter": "python",
   "pygments_lexer": "ipython3",
   "version": "3.6.0"
  }
 },
 "nbformat": 4,
 "nbformat_minor": 2
}
